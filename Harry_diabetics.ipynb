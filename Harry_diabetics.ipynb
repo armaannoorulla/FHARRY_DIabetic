{
 "cells": [
  {
   "cell_type": "code",
   "execution_count": 1,
   "id": "79c5f6b9",
   "metadata": {},
   "outputs": [],
   "source": [
    "import pandas as pd\n",
    "import numpy as np\n",
    "import matplotlib.pyplot as plt\n",
    "from sklearn import datasets , linear_model\n",
    "from sklearn.metrics import mean_squared_error"
   ]
  },
  {
   "cell_type": "code",
   "execution_count": 2,
   "id": "f12de245",
   "metadata": {},
   "outputs": [],
   "source": [
    "diabetes = datasets.load_diabetes()\n",
    "diabetes_X  =  diabetes.data[:,np.newaxis,2]\n"
   ]
  },
  {
   "cell_type": "code",
   "execution_count": 3,
   "id": "8982584d",
   "metadata": {},
   "outputs": [],
   "source": [
    "diabetes_X_train  = diabetes_X[:-30]\n",
    "diabetes_X_test = diabetes_X[-30:]"
   ]
  },
  {
   "cell_type": "code",
   "execution_count": 4,
   "id": "16bcc77c",
   "metadata": {},
   "outputs": [],
   "source": [
    "diabetes_y_train  = diabetes.target[:-30]\n",
    "diabetes_y_test = diabetes.target[-30:]"
   ]
  },
  {
   "cell_type": "code",
   "execution_count": 5,
   "id": "5cc3fc56",
   "metadata": {},
   "outputs": [],
   "source": [
    "model = linear_model.LinearRegression()\n",
    "model.fit(diabetes_X_train, diabetes_y_train)\n",
    "diabetes_y_predicted = model.predict(diabetes_X_test)"
   ]
  },
  {
   "cell_type": "code",
   "execution_count": 6,
   "id": "3eb5d5ad",
   "metadata": {},
   "outputs": [
    {
     "name": "stdout",
     "output_type": "stream",
     "text": [
      "Mean squared error is:   3035.0601152912686\n",
      "Weights:   [941.43097333]\n",
      "Intercept:   153.39713623331698\n"
     ]
    }
   ],
   "source": [
    "print(\"Mean squared error is:  \", mean_squared_error(diabetes_y_test, diabetes_y_predicted))\n",
    "print(\"Weights:  \",  model.coef_)\n",
    "print(\"Intercept:  \",  model.intercept_)"
   ]
  },
  {
   "cell_type": "code",
   "execution_count": 7,
   "id": "aaf04e83",
   "metadata": {},
   "outputs": [
    {
     "data": {
      "image/png": "[encoded data removed]",
      "text/plain": [
       "<Figure size 640x480 with 1 Axes>"
      ]
     },
     "metadata": {},
     "output_type": "display_data"
    }
   ],
   "source": [
    "plt.scatter(diabetes_X_test, diabetes_y_test)\n",
    "plt.plot(diabetes_X_test, diabetes_y_predicted)\n",
    "plt.show()\n"
   ]
  },
  {
   "cell_type": "code",
   "execution_count": 8,
   "id": "125e8bbf",
   "metadata": {},
   "outputs": [],
   "source": [
    "diabetes1 = datasets.load_diabetes()\n",
    "diabetes_X1  =  diabetes.data"
   ]
  },
  {
   "cell_type": "code",
   "execution_count": 9,
   "id": "0cde2534",
   "metadata": {},
   "outputs": [],
   "source": [
    "diabetes_X_train1  = diabetes_X1[:-30]\n",
    "diabetes_X_test1 = diabetes_X1[-30:]\n",
    "diabetes_y_train1  = diabetes1.target[:-30]\n",
    "diabetes_y_test1 = diabetes1.target[-30:]"
   ]
  },
  {
   "cell_type": "code",
   "execution_count": 11,
   "id": "0eec6aca",
   "metadata": {},
   "outputs": [],
   "source": [
    "model1 = linear_model.LinearRegression()\n",
    "model1.fit(diabetes_X_train1, diabetes_y_train1)\n",
    "diabetes_y_predicted1 = model1.predict(diabetes_X_test1)"
   ]
  },
  {
   "cell_type": "code",
   "execution_count": 12,
   "id": "7d6672d4",
   "metadata": {},
   "outputs": [
    {
     "name": "stdout",
     "output_type": "stream",
     "text": [
      "Mean squared error is:   1826.5364191345425\n",
      "Weights:   [  -1.16924976 -237.18461486  518.30606657  309.04865826 -763.14121622\n",
      "  458.90999325   80.62441437  174.32183366  721.49712065   79.19307944]\n",
      "Intercept:   153.05827988224112\n"
     ]
    }
   ],
   "source": [
    "print(\"Mean squared error is:  \", mean_squared_error(diabetes_y_test1, diabetes_y_predicted1))\n",
    "print(\"Weights:  \",  model1.coef_)\n",
    "print(\"Intercept:  \",  model1.intercept_)"
   ]
  },
  {
   "cell_type": "code",
   "execution_count": null,
   "id": "b7171eea",
   "metadata": {},
   "outputs": [],
   "source": []
  }
 ],
 "metadata": {
  "kernelspec": {
   "display_name": "Python 3 (ipykernel)",
   "language": "python",
   "name": "python3"
  },
  "language_info": {
   "codemirror_mode": {
    "name": "ipython",
    "version": 3
   },
   "file_extension": ".py",
   "mimetype": "text/x-python",
   "name": "python",
   "nbconvert_exporter": "python",
   "pygments_lexer": "ipython3",
   "version": "3.9.13"
  }
 },
 "nbformat": 4,
 "nbformat_minor": 5
}
